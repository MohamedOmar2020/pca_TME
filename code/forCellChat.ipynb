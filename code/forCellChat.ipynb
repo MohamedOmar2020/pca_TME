{
 "cells": [
  {
   "cell_type": "code",
   "execution_count": 70,
   "id": "e203cc20",
   "metadata": {},
   "outputs": [],
   "source": [
    "import sys\n",
    "import os\n",
    "os.chdir(\"/athena/marchionnilab/scratch/lab_data/Mohamed/pca_TME\")\n",
    "#sys.setrecursionlimit(22000)\n",
    "from pathlib import Path\n",
    "import scanpy as sc\n",
    "from matplotlib.pyplot import ion\n",
    "from scutils.figures.base import basics\n",
    "from scutils.figures.prostate import annotate_cell_types_prostate\n",
    "from scutils.qc import PreprocessRNA\n",
    "from mousipy import translate\n",
    "import pandas as pd\n",
    "import scipy.sparse as sp"
   ]
  },
  {
   "cell_type": "code",
   "execution_count": 71,
   "id": "956edeb6",
   "metadata": {},
   "outputs": [],
   "source": [
    "sc._settings.ScanpyConfig(plot_suffix = '', n_jobs = 20, max_memory = 100)\n",
    "sc.set_figure_params(dpi_save = 300)"
   ]
  },
  {
   "cell_type": "code",
   "execution_count": 78,
   "id": "eab61246",
   "metadata": {},
   "outputs": [],
   "source": [
    "adata_mouse = sc.read_h5ad('outs/h5ads/fapcm_unfiltered_v6.h5ad', chunk_size=100000)\n",
    "#adata_mouse.obs['cluster'] = adata_mouse.obs['cluster'].astype('str')\n",
    "#adata_mouse.obs['cluster'].value_counts()"
   ]
  },
  {
   "cell_type": "code",
   "execution_count": 79,
   "id": "c3291fed",
   "metadata": {},
   "outputs": [
    {
     "data": {
      "text/plain": [
       "AnnData object with n_obs × n_vars = 101853 × 4000\n",
       "    obs: 'batch', 'key', 'model', 'condition', 'n_genes_by_counts', 'total_counts', 'total_counts_mt', 'pct_counts_mt', 'n_counts', 'n_genes', 'percent_mito', 'S_score', 'G2M_score', 'phase', 'scrubletscores', 'scrubletdoublets', 'leiden', '_scvi_batch', '_scvi_labels', '_scvi_local_l_mean', '_scvi_local_l_var', 'endothelial', 'fibroblast', 'myofibroblast', 'dendritic', 'cCDs', 'langherhans_like', 'b', 't_nk', 'myeloid', 'mast', 'luminal', 'basal', 'notluminal', 'macrophages', 'neuroendocrine', 'seminal_vesicle_basal', 'seminal_vesicle_luminal', 'seminal_vesicle_ionocyte'\n",
       "    var: 'gene_ids-0', 'feature_types-0', 'genome-0', 'gene_ids-1', 'feature_types-1', 'genome-1', 'gene_ids-2', 'feature_types-2', 'genome-2', 'gene_ids-3', 'feature_types-3', 'genome-3', 'gene_ids-4', 'feature_types-4', 'genome-4', 'gene_ids-5', 'feature_types-5', 'genome-5', 'gene_ids-6', 'feature_types-6', 'genome-6', 'gene_ids-7', 'feature_types-7', 'genome-7', 'gene_ids-8', 'feature_types-8', 'genome-8', 'mt', 'n_cells_by_counts', 'mean_counts', 'pct_dropout_by_counts', 'total_counts', 'n_cells', 'highly_variable', 'highly_variable_rank', 'means', 'variances', 'variances_norm', 'mean', 'std', 'highly_variable_nbatches'\n",
       "    uns: '_scvi', 'condition_colors', 'dendrogram_leiden', 'hvg', 'key_colors', 'leiden', 'leiden_colors', 'leiden_sizes', 'model_colors', 'neighbors', 'paga', 'rank_genes_groups', 'umap'\n",
       "    obsm: 'X_pca', 'X_scVI', 'X_umap'\n",
       "    layers: 'counts'\n",
       "    obsp: 'connectivities', 'distances'"
      ]
     },
     "execution_count": 79,
     "metadata": {},
     "output_type": "execute_result"
    }
   ],
   "source": [
    "adata_mouse"
   ]
  },
  {
   "cell_type": "code",
   "execution_count": 80,
   "id": "b4ac9693",
   "metadata": {},
   "outputs": [
    {
     "data": {
      "text/plain": [
       "mycn          30677\n",
       "pten          22699\n",
       "himyc         15324\n",
       "terg          10452\n",
       "129b6          7728\n",
       "fvbn           6983\n",
       "129b6_pten     4141\n",
       "b6             2938\n",
       "129b6_mycn      911\n",
       "Name: key, dtype: int64"
      ]
     },
     "execution_count": 80,
     "metadata": {},
     "output_type": "execute_result"
    }
   ],
   "source": [
    "adata_mouse.obs['key'].value_counts()"
   ]
  },
  {
   "cell_type": "code",
   "execution_count": 51,
   "id": "08f6914e",
   "metadata": {},
   "outputs": [],
   "source": [
    "adata_mouse = adata_mouse.raw.to_adata()"
   ]
  },
  {
   "cell_type": "code",
   "execution_count": 52,
   "id": "ff443acc",
   "metadata": {},
   "outputs": [],
   "source": [
    "adata_mouse.X = sp.csr_matrix.todense(adata_mouse.X)\n",
    "adata_mouse.X = adata_mouse.to_df()"
   ]
  },
  {
   "cell_type": "code",
   "execution_count": 57,
   "id": "f67645b2",
   "metadata": {},
   "outputs": [],
   "source": [
    "adata_mouse.write('outs/forCellChat/adata_mouse_norm.h5ad')"
   ]
  },
  {
   "cell_type": "markdown",
   "id": "536fdb73",
   "metadata": {},
   "source": [
    "# Cluster inference for human data"
   ]
  },
  {
   "cell_type": "code",
   "execution_count": 58,
   "id": "4ae061aa",
   "metadata": {},
   "outputs": [],
   "source": [
    "# load the human adata\n",
    "adata_human = sc.read_h5ad('outs_human/h5ads/erg_fibroblasts_scvi_v6_regulons.h5ad', chunk_size=100000)"
   ]
  },
  {
   "cell_type": "code",
   "execution_count": 66,
   "id": "e0417717",
   "metadata": {},
   "outputs": [],
   "source": [
    "adata_human = adata_human.raw.to_adata()"
   ]
  },
  {
   "cell_type": "code",
   "execution_count": 67,
   "id": "39808a32",
   "metadata": {},
   "outputs": [],
   "source": [
    "adata_human.X = sp.csr_matrix.todense(adata_human.X)\n",
    "adata_human.X = adata_human.to_df()"
   ]
  },
  {
   "cell_type": "code",
   "execution_count": 69,
   "id": "23202d52",
   "metadata": {
    "scrolled": true
   },
   "outputs": [],
   "source": [
    "adata_human.write('outs/forCellChat/adata_human_norm.h5ad')"
   ]
  },
  {
   "cell_type": "code",
   "execution_count": null,
   "id": "81a2bc0f",
   "metadata": {},
   "outputs": [],
   "source": []
  }
 ],
 "metadata": {
  "kernelspec": {
   "display_name": "scutils",
   "language": "python",
   "name": "scutils"
  },
  "language_info": {
   "codemirror_mode": {
    "name": "ipython",
    "version": 3
   },
   "file_extension": ".py",
   "mimetype": "text/x-python",
   "name": "python",
   "nbconvert_exporter": "python",
   "pygments_lexer": "ipython3",
   "version": "3.9.4"
  }
 },
 "nbformat": 4,
 "nbformat_minor": 5
}
