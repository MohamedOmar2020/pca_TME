{
 "cells": [
  {
   "cell_type": "code",
   "execution_count": 3,
   "id": "0ae5b18b",
   "metadata": {},
   "outputs": [
    {
     "name": "stderr",
     "output_type": "stream",
     "text": [
      "Global seed set to 94705\n"
     ]
    }
   ],
   "source": [
    "import os\n",
    "os.chdir(\"/athena/marchionnilab/scratch/lab_data/Mohamed/pca_TME\")\n",
    "import scanpy as sc\n",
    "import torch\n",
    "import scarches as sca\n",
    "from scarches.dataset.trvae.data_handling import remove_sparsity\n",
    "import matplotlib.pyplot as plt\n",
    "import numpy as np\n",
    "import gdown\n",
    "import scipy.sparse as sp\n",
    "import scvi\n",
    "\n",
    "scvi.settings.seed = 94705\n",
    "scvi.settings.batch_size = 256\n",
    "scvi.settings.progress_bar_style = \"rich\"\n",
    "scvi.settings.num_threads = 16\n",
    "\n",
    "sc.set_figure_params(figsize=(4, 4))\n",
    "sc._settings.ScanpyConfig(max_memory = 200, n_jobs = 16)\n",
    "\n",
    "\n",
    "%config InlineBackend.print_figure_kwargs={'facecolor' : \"w\"}\n",
    "%config InlineBackend.figure_format='retina'"
   ]
  },
  {
   "cell_type": "code",
   "execution_count": 4,
   "id": "55a43cc3",
   "metadata": {},
   "outputs": [],
   "source": [
    "import warnings\n",
    "warnings.simplefilter(action='ignore', category=FutureWarning)\n",
    "warnings.simplefilter(action='ignore', category=UserWarning)"
   ]
  },
  {
   "cell_type": "code",
   "execution_count": 5,
   "id": "2480f8af",
   "metadata": {},
   "outputs": [],
   "source": [
    "sc.settings.set_figure_params(dpi=200, frameon=False)\n",
    "sc.set_figure_params(dpi=200)\n",
    "sc.set_figure_params(figsize=(4, 4))\n",
    "torch.set_printoptions(precision=3, sci_mode=False, edgeitems=7)"
   ]
  },
  {
   "cell_type": "markdown",
   "id": "3a0dad9d",
   "metadata": {},
   "source": [
    "## Reference data: mouse\n"
   ]
  },
  {
   "cell_type": "code",
   "execution_count": 6,
   "id": "bb113e74",
   "metadata": {},
   "outputs": [],
   "source": [
    "adata_mouse = sc.read_h5ad('outs/h5ads/fapcm_fibroblasts_v6_clean_regulons_5.h5ad', chunk_size=100000)"
   ]
  },
  {
   "cell_type": "code",
   "execution_count": 7,
   "id": "39814d99",
   "metadata": {},
   "outputs": [
    {
     "data": {
      "text/plain": [
       "1    2541\n",
       "0    1442\n",
       "5     997\n",
       "3     903\n",
       "6     895\n",
       "7     753\n",
       "4     733\n",
       "2     310\n",
       "Name: cluster, dtype: int64"
      ]
     },
     "execution_count": 7,
     "metadata": {},
     "output_type": "execute_result"
    }
   ],
   "source": [
    "# filter the na\n",
    "adata_mouse.obs['cluster'] = adata_mouse.obs['cluster'].astype('str')\n",
    "adata_mouse = adata_mouse[adata_mouse.obs['cluster'] != 'nan', :]\n",
    "adata_mouse.obs['cluster'].value_counts()"
   ]
  },
  {
   "cell_type": "code",
   "execution_count": 8,
   "id": "d7bab110",
   "metadata": {},
   "outputs": [],
   "source": [
    "# raw\n",
    "adata_mouse_raw = adata_mouse.copy()\n",
    "adata_mouse_raw = adata_mouse_raw.raw.to_adata()\n",
    "adata_mouse_raw.X = sp.csr_matrix.todense(adata_mouse_raw.X)\n",
    "adata_mouse_raw.X = adata_mouse_raw.to_df()\n"
   ]
  },
  {
   "cell_type": "code",
   "execution_count": 9,
   "id": "e2eb4408",
   "metadata": {},
   "outputs": [],
   "source": [
    "adata_mouse_raw.layers['counts'] = adata_mouse.raw.X"
   ]
  },
  {
   "cell_type": "code",
   "execution_count": 10,
   "id": "c34206d1",
   "metadata": {},
   "outputs": [
    {
     "data": {
      "text/plain": [
       "AnnData object with n_obs × n_vars = 8574 × 23278\n",
       "    obs: 'batch', 'key', 'model', 'condition', 'n_genes_by_counts', 'total_counts', 'total_counts_mt', 'pct_counts_mt', 'n_counts', 'n_genes', 'percent_mito', 'S_score', 'G2M_score', 'phase', 'scrubletscores', 'scrubletdoublets', 'leiden', '_scvi_batch', '_scvi_labels', '_scvi_local_l_mean', '_scvi_local_l_var', 'endothelial', 'fibroblast', 'myofibroblast', 'dendritic', 'cCDs', 'langherhans_like', 'b', 't_nk', 'myeloid', 'mast', 'luminal', 'basal', 'notluminal', 'macrophages', 'neuroendocrine', 'seminal_vesicle_basal', 'seminal_vesicle_luminal', 'seminal_vesicle_ionocyte', 'Regulon(Arid5a)', 'Regulon(Arid5b)', 'Regulon(Ascl1)', 'Regulon(Ascl2)', 'Regulon(Atf3)', 'Regulon(Bach1)', 'Regulon(Batf)', 'Regulon(Bcl3)', 'Regulon(Cebpa)', 'Regulon(Cebpb)', 'Regulon(Cebpd)', 'Regulon(Creb5)', 'Regulon(Crem)', 'Regulon(Dusp26)', 'Regulon(Egr1)', 'Regulon(Egr2)', 'Regulon(Egr3)', 'Regulon(Egr4)', 'Regulon(Eomes)', 'Regulon(Erg)', 'Regulon(Ets1)', 'Regulon(Fezf1)', 'Regulon(Fosb)', 'Regulon(Fosl2)', 'Regulon(Foxa1)', 'Regulon(Foxd3)', 'Regulon(Foxi1)', 'Regulon(Foxo1)', 'Regulon(Foxq1)', 'Regulon(Foxs1)', 'Regulon(Gabpb1)', 'Regulon(Gata2)', 'Regulon(Gata3)', 'Regulon(Gata6)', 'Regulon(Grhl3)', 'Regulon(Hnf4a)', 'Regulon(Hoxb6)', 'Regulon(Ikzf2)', 'Regulon(Irf1)', 'Regulon(Irf4)', 'Regulon(Irf5)', 'Regulon(Irf6)', 'Regulon(Irf7)', 'Regulon(Irf8)', 'Regulon(Junb)', 'Regulon(Jund)', 'Regulon(Klf2)', 'Regulon(Klf4)', 'Regulon(Klf5)', 'Regulon(Lhx6)', 'Regulon(Mafb)', 'Regulon(Maff)', 'Regulon(Mef2c)', 'Regulon(Myc)', 'Regulon(Myod1)', 'Regulon(Nfe2l2)', 'Regulon(Nfia)', 'Regulon(Nfil3)', 'Regulon(Nfix)', 'Regulon(Nfkb1)', 'Regulon(Nkx6-2)', 'Regulon(Onecut2)', 'Regulon(Pax3)', 'Regulon(Peg3)', 'Regulon(Pgr)', 'Regulon(Pou2f3)', 'Regulon(Pparg)', 'Regulon(Prrx2)', 'Regulon(Rel)', 'Regulon(Runx1)', 'Regulon(Runx3)', 'Regulon(Six2)', 'Regulon(Snai3)', 'Regulon(Sox10)', 'Regulon(Sox11)', 'Regulon(Sox18)', 'Regulon(Sox2)', 'Regulon(Sox4)', 'Regulon(Sox7)', 'Regulon(Sox9)', 'Regulon(Spi1)', 'Regulon(Spib)', 'Regulon(Spic)', 'Regulon(Srebf1)', 'Regulon(Stat3)', 'Regulon(Tagln2)', 'Regulon(Tal1)', 'Regulon(Tbx1)', 'Regulon(Tbx21)', 'Regulon(Tcf4)', 'Regulon(Tead1)', 'Regulon(Tff3)', 'Regulon(Trp63)', 'Regulon(Twist1)', 'name', 'name_nosuperscript', 'cluster'\n",
       "    var: 'gene_ids-0', 'feature_types-0', 'genome-0', 'gene_ids-1', 'feature_types-1', 'genome-1', 'gene_ids-2', 'feature_types-2', 'genome-2', 'gene_ids-3', 'feature_types-3', 'genome-3', 'gene_ids-4', 'feature_types-4', 'genome-4', 'gene_ids-5', 'feature_types-5', 'genome-5', 'gene_ids-6', 'feature_types-6', 'genome-6', 'gene_ids-7', 'feature_types-7', 'genome-7', 'gene_ids-8', 'feature_types-8', 'genome-8', 'mt', 'n_cells_by_counts', 'mean_counts', 'pct_dropout_by_counts', 'total_counts', 'n_cells', 'highly_variable', 'highly_variable_rank', 'means', 'variances', 'variances_norm'\n",
       "    uns: '_scvi', 'aucell', 'condition_colors', 'dendrogram_leiden', 'hvg', 'key_colors', 'leiden', 'leiden_sizes', 'model_colors', 'neighbors', 'paga', 'rank_genes_groups', 'umap'\n",
       "    obsm: 'X_aucell', 'X_pca', 'X_scVI', 'X_umap'\n",
       "    layers: 'counts'\n",
       "    obsp: 'connectivities', 'distances'"
      ]
     },
     "execution_count": 10,
     "metadata": {},
     "output_type": "execute_result"
    }
   ],
   "source": [
    "adata_mouse_raw"
   ]
  },
  {
   "cell_type": "code",
   "execution_count": 11,
   "id": "2f6a590d",
   "metadata": {},
   "outputs": [
    {
     "data": {
      "text/plain": [
       "MNRP DKO       4510\n",
       "Fvbn           1087\n",
       "T-ERG          1085\n",
       "Hi-MYC          864\n",
       "B6.129          656\n",
       "B6              287\n",
       "Pten$^{KO}$      85\n",
       "Name: model, dtype: int64"
      ]
     },
     "execution_count": 11,
     "metadata": {},
     "output_type": "execute_result"
    }
   ],
   "source": [
    "adata_mouse_raw.obs.model.value_counts()"
   ]
  },
  {
   "cell_type": "code",
   "execution_count": 12,
   "id": "487a0297",
   "metadata": {},
   "outputs": [
    {
     "data": {
      "text/plain": [
       "AnnData object with n_obs × n_vars = 8574 × 23278\n",
       "    obs: 'batch', 'key', 'model', 'condition', 'n_genes_by_counts', 'total_counts', 'total_counts_mt', 'pct_counts_mt', 'n_counts', 'n_genes', 'percent_mito', 'S_score', 'G2M_score', 'phase', 'scrubletscores', 'scrubletdoublets', 'leiden', '_scvi_batch', '_scvi_labels', '_scvi_local_l_mean', '_scvi_local_l_var', 'endothelial', 'fibroblast', 'myofibroblast', 'dendritic', 'cCDs', 'langherhans_like', 'b', 't_nk', 'myeloid', 'mast', 'luminal', 'basal', 'notluminal', 'macrophages', 'neuroendocrine', 'seminal_vesicle_basal', 'seminal_vesicle_luminal', 'seminal_vesicle_ionocyte', 'Regulon(Arid5a)', 'Regulon(Arid5b)', 'Regulon(Ascl1)', 'Regulon(Ascl2)', 'Regulon(Atf3)', 'Regulon(Bach1)', 'Regulon(Batf)', 'Regulon(Bcl3)', 'Regulon(Cebpa)', 'Regulon(Cebpb)', 'Regulon(Cebpd)', 'Regulon(Creb5)', 'Regulon(Crem)', 'Regulon(Dusp26)', 'Regulon(Egr1)', 'Regulon(Egr2)', 'Regulon(Egr3)', 'Regulon(Egr4)', 'Regulon(Eomes)', 'Regulon(Erg)', 'Regulon(Ets1)', 'Regulon(Fezf1)', 'Regulon(Fosb)', 'Regulon(Fosl2)', 'Regulon(Foxa1)', 'Regulon(Foxd3)', 'Regulon(Foxi1)', 'Regulon(Foxo1)', 'Regulon(Foxq1)', 'Regulon(Foxs1)', 'Regulon(Gabpb1)', 'Regulon(Gata2)', 'Regulon(Gata3)', 'Regulon(Gata6)', 'Regulon(Grhl3)', 'Regulon(Hnf4a)', 'Regulon(Hoxb6)', 'Regulon(Ikzf2)', 'Regulon(Irf1)', 'Regulon(Irf4)', 'Regulon(Irf5)', 'Regulon(Irf6)', 'Regulon(Irf7)', 'Regulon(Irf8)', 'Regulon(Junb)', 'Regulon(Jund)', 'Regulon(Klf2)', 'Regulon(Klf4)', 'Regulon(Klf5)', 'Regulon(Lhx6)', 'Regulon(Mafb)', 'Regulon(Maff)', 'Regulon(Mef2c)', 'Regulon(Myc)', 'Regulon(Myod1)', 'Regulon(Nfe2l2)', 'Regulon(Nfia)', 'Regulon(Nfil3)', 'Regulon(Nfix)', 'Regulon(Nfkb1)', 'Regulon(Nkx6-2)', 'Regulon(Onecut2)', 'Regulon(Pax3)', 'Regulon(Peg3)', 'Regulon(Pgr)', 'Regulon(Pou2f3)', 'Regulon(Pparg)', 'Regulon(Prrx2)', 'Regulon(Rel)', 'Regulon(Runx1)', 'Regulon(Runx3)', 'Regulon(Six2)', 'Regulon(Snai3)', 'Regulon(Sox10)', 'Regulon(Sox11)', 'Regulon(Sox18)', 'Regulon(Sox2)', 'Regulon(Sox4)', 'Regulon(Sox7)', 'Regulon(Sox9)', 'Regulon(Spi1)', 'Regulon(Spib)', 'Regulon(Spic)', 'Regulon(Srebf1)', 'Regulon(Stat3)', 'Regulon(Tagln2)', 'Regulon(Tal1)', 'Regulon(Tbx1)', 'Regulon(Tbx21)', 'Regulon(Tcf4)', 'Regulon(Tead1)', 'Regulon(Tff3)', 'Regulon(Trp63)', 'Regulon(Twist1)', 'name', 'name_nosuperscript', 'cluster'\n",
       "    var: 'gene_ids-0', 'feature_types-0', 'genome-0', 'gene_ids-1', 'feature_types-1', 'genome-1', 'gene_ids-2', 'feature_types-2', 'genome-2', 'gene_ids-3', 'feature_types-3', 'genome-3', 'gene_ids-4', 'feature_types-4', 'genome-4', 'gene_ids-5', 'feature_types-5', 'genome-5', 'gene_ids-6', 'feature_types-6', 'genome-6', 'gene_ids-7', 'feature_types-7', 'genome-7', 'gene_ids-8', 'feature_types-8', 'genome-8', 'mt', 'n_cells_by_counts', 'mean_counts', 'pct_dropout_by_counts', 'total_counts', 'n_cells', 'highly_variable', 'highly_variable_rank', 'means', 'variances', 'variances_norm'\n",
       "    uns: '_scvi', 'aucell', 'condition_colors', 'dendrogram_leiden', 'hvg', 'key_colors', 'leiden', 'leiden_sizes', 'model_colors', 'neighbors', 'paga', 'rank_genes_groups', 'umap'\n",
       "    obsm: 'X_aucell', 'X_pca', 'X_scVI', 'X_umap'\n",
       "    layers: 'counts'\n",
       "    obsp: 'connectivities', 'distances'"
      ]
     },
     "execution_count": 12,
     "metadata": {},
     "output_type": "execute_result"
    }
   ],
   "source": [
    "adata_mouse_raw"
   ]
  },
  {
   "cell_type": "code",
   "execution_count": 13,
   "id": "362672a1",
   "metadata": {},
   "outputs": [],
   "source": [
    "adata_mouse_raw.obs.drop( ['_scvi_batch','_scvi_labels','_scvi_local_l_mean','_scvi_local_l_var'], axis=1, inplace=True )\n"
   ]
  },
  {
   "cell_type": "code",
   "execution_count": 14,
   "id": "c1d2684d",
   "metadata": {},
   "outputs": [],
   "source": [
    "del adata_mouse_raw.uns['_scvi']\n"
   ]
  },
  {
   "cell_type": "code",
   "execution_count": 15,
   "id": "edb575c1",
   "metadata": {},
   "outputs": [],
   "source": [
    "del adata_mouse_raw.obsm['X_scVI']"
   ]
  },
  {
   "cell_type": "markdown",
   "id": "ec61423b",
   "metadata": {},
   "source": [
    "## Target data: human"
   ]
  },
  {
   "cell_type": "code",
   "execution_count": 16,
   "id": "521821c9",
   "metadata": {},
   "outputs": [],
   "source": [
    "# load the human data\n",
    "adata_human = sc.read_h5ad('outs_human/h5ads/erg_fibroblasts_scvi_v6_regulons.h5ad', chunk_size=100000)"
   ]
  },
  {
   "cell_type": "code",
   "execution_count": 17,
   "id": "430ca039",
   "metadata": {},
   "outputs": [],
   "source": [
    "# raw\n",
    "# save the normalized data (not z-scored) for cellchat\n",
    "adata_human_raw = adata_human.copy()\n",
    "adata_human_raw = adata_human_raw.raw.to_adata()\n",
    "adata_human_raw.X = sp.csr_matrix.todense(adata_human_raw.X)\n",
    "adata_human_raw.X = adata_human_raw.to_df()"
   ]
  },
  {
   "cell_type": "code",
   "execution_count": 18,
   "id": "59e7a501",
   "metadata": {},
   "outputs": [],
   "source": [
    "# change the var_names to match mouse gene symbols\n",
    "adata_human_raw.var_names = [gene.title() for gene in adata_human_raw.var_names]"
   ]
  },
  {
   "cell_type": "code",
   "execution_count": 19,
   "id": "35bfe504",
   "metadata": {
    "scrolled": true
   },
   "outputs": [
    {
     "data": {
      "text/plain": [
       "Index(['A1Bg', 'A1Bg-As1', 'A1Cf', 'A2M', 'A2M-As1', 'A2Ml1', 'A2Ml1-As1',\n",
       "       'A2Ml1-As2', 'A3Galt2', 'A4Galt',\n",
       "       ...\n",
       "       'Zw10', 'Zwilch', 'Zwint', 'Zxda', 'Zxdb', 'Zxdc', 'Zyg11A', 'Zyg11B',\n",
       "       'Zyx', 'Zzef1'],\n",
       "      dtype='object', length=30631)"
      ]
     },
     "execution_count": 19,
     "metadata": {},
     "output_type": "execute_result"
    }
   ],
   "source": [
    "adata_human_raw.var_names"
   ]
  },
  {
   "cell_type": "markdown",
   "id": "9a432e8f",
   "metadata": {},
   "source": [
    "## find common genes\n"
   ]
  },
  {
   "cell_type": "code",
   "execution_count": 20,
   "id": "7f432c03",
   "metadata": {},
   "outputs": [
    {
     "data": {
      "text/plain": [
       "12017"
      ]
     },
     "execution_count": 20,
     "metadata": {},
     "output_type": "execute_result"
    }
   ],
   "source": [
    "var_names = adata_mouse_raw.var_names.intersection(adata_human_raw.var_names)\n",
    "len(var_names)"
   ]
  },
  {
   "cell_type": "code",
   "execution_count": 21,
   "id": "26004bc6",
   "metadata": {},
   "outputs": [],
   "source": [
    "# subset\n",
    "adata_mouse_raw = adata_mouse_raw[:, var_names]\n",
    "adata_human_raw = adata_human_raw[:, var_names]"
   ]
  },
  {
   "cell_type": "markdown",
   "id": "ebcf0c5a",
   "metadata": {},
   "source": [
    "## Create SCANVI model and train it on fully labelled reference dataset"
   ]
  },
  {
   "cell_type": "code",
   "execution_count": 22,
   "id": "49cba52c",
   "metadata": {},
   "outputs": [],
   "source": [
    "adata_mouse_raw = remove_sparsity(adata_mouse_raw)"
   ]
  },
  {
   "cell_type": "code",
   "execution_count": 23,
   "id": "e3b5b084",
   "metadata": {},
   "outputs": [],
   "source": [
    "adata_mouse_raw2 = adata_mouse_raw.copy()"
   ]
  },
  {
   "cell_type": "code",
   "execution_count": 24,
   "id": "8d95026a",
   "metadata": {},
   "outputs": [],
   "source": [
    "scvi.model.SCVI.setup_anndata(adata_mouse_raw2, batch_key=\"model\", layer=\"counts\")\n"
   ]
  },
  {
   "cell_type": "code",
   "execution_count": null,
   "id": "b2c0dc03",
   "metadata": {},
   "outputs": [
    {
     "name": "stderr",
     "output_type": "stream",
     "text": [
      "GPU available: False, used: False\n",
      "TPU available: False, using: 0 TPU cores\n",
      "IPU available: False, using: 0 IPUs\n",
      "Set SLURM handle signals.\n"
     ]
    },
    {
     "name": "stdout",
     "output_type": "stream",
     "text": [
      "Epoch 400/400: 100%|█████████▉| 399/400 [33:35<00:04,  4.92s/it, loss=3.47e+03, v_num=1]"
     ]
    }
   ],
   "source": [
    "arches_params = dict(\n",
    "    use_layer_norm=\"both\",\n",
    "    use_batch_norm=\"none\",\n",
    "    encode_covariates=True,\n",
    "    dropout_rate=0.2,\n",
    "    n_layers=2,\n",
    ")\n",
    "\n",
    "vae_ref = scvi.model.SCVI(\n",
    "    adata_mouse_raw2,\n",
    "    **arches_params\n",
    ")\n",
    "vae_ref.train()"
   ]
  },
  {
   "cell_type": "code",
   "execution_count": 24,
   "id": "d06ad078",
   "metadata": {},
   "outputs": [],
   "source": [
    "adata_mouse_raw2.obsm[\"X_scVI\"] = vae_ref.get_latent_representation(batch_size = 128)"
   ]
  },
  {
   "cell_type": "code",
   "execution_count": 1,
   "id": "99e3f097",
   "metadata": {},
   "outputs": [
    {
     "ename": "NameError",
     "evalue": "name 'sc' is not defined",
     "output_type": "error",
     "traceback": [
      "\u001b[0;31m---------------------------------------------------------------------------\u001b[0m",
      "\u001b[0;31mNameError\u001b[0m                                 Traceback (most recent call last)",
      "\u001b[0;32m/scratchLocal/mao4005_9157240/ipykernel_159678/3577688297.py\u001b[0m in \u001b[0;36m<module>\u001b[0;34m\u001b[0m\n\u001b[0;32m----> 1\u001b[0;31m \u001b[0msc\u001b[0m\u001b[0;34m.\u001b[0m\u001b[0mpp\u001b[0m\u001b[0;34m.\u001b[0m\u001b[0mneighbors\u001b[0m\u001b[0;34m(\u001b[0m\u001b[0madata_mouse_raw2\u001b[0m\u001b[0;34m,\u001b[0m \u001b[0muse_rep\u001b[0m\u001b[0;34m=\u001b[0m\u001b[0;34m\"X_scVI\"\u001b[0m\u001b[0;34m)\u001b[0m\u001b[0;34m\u001b[0m\u001b[0;34m\u001b[0m\u001b[0m\n\u001b[0m",
      "\u001b[0;31mNameError\u001b[0m: name 'sc' is not defined"
     ]
    }
   ],
   "source": [
    "sc.pp.neighbors(adata_mouse_raw2, use_rep=\"X_scVI\", random_state = 94705)"
   ]
  },
  {
   "cell_type": "code",
   "execution_count": null,
   "id": "ea134755",
   "metadata": {},
   "outputs": [],
   "source": [
    "sc.tl.umap(adata_mouse_raw2)\n",
    "sc.pl.umap(\n",
    "    adata_mouse_raw2,\n",
    "    color=[\"model\", \"cluster\"],\n",
    "    frameon=False,\n",
    "    ncols=2,\n",
    ")"
   ]
  },
  {
   "cell_type": "code",
   "execution_count": null,
   "id": "046897eb",
   "metadata": {},
   "outputs": [],
   "source": [
    "## Now we obtain the latent representation, and use Scanpy to visualize with UMAP.\n",
    "\n",
    "adata_mouse_raw2.obsm[\"X_scVI\"] = vae_ref.get_latent_representation()\n",
    "sc.pp.neighbors(adata_mouse_raw2, use_rep=\"X_scVI\")\n",
    "sc.tl.leiden(adata_mouse_raw2)\n",
    "sc.tl.umap(adata_mouse_raw2)\n",
    "sc.pl.umap(\n",
    "    adata_mouse_raw2,\n",
    "    color=[\"model\", \"cluster\"],\n",
    "    frameon=False,\n",
    "    ncols=2,\n",
    ")"
   ]
  },
  {
   "cell_type": "code",
   "execution_count": 25,
   "id": "8bc1ef56",
   "metadata": {},
   "outputs": [
    {
     "data": {
      "text/plain": [
       "AnnData object with n_obs × n_vars = 8574 × 12017\n",
       "    obs: 'batch', 'key', 'model', 'condition', 'n_genes_by_counts', 'total_counts', 'total_counts_mt', 'pct_counts_mt', 'n_counts', 'n_genes', 'percent_mito', 'S_score', 'G2M_score', 'phase', 'scrubletscores', 'scrubletdoublets', 'leiden', 'endothelial', 'fibroblast', 'myofibroblast', 'dendritic', 'cCDs', 'langherhans_like', 'b', 't_nk', 'myeloid', 'mast', 'luminal', 'basal', 'notluminal', 'macrophages', 'neuroendocrine', 'seminal_vesicle_basal', 'seminal_vesicle_luminal', 'seminal_vesicle_ionocyte', 'Regulon(Arid5a)', 'Regulon(Arid5b)', 'Regulon(Ascl1)', 'Regulon(Ascl2)', 'Regulon(Atf3)', 'Regulon(Bach1)', 'Regulon(Batf)', 'Regulon(Bcl3)', 'Regulon(Cebpa)', 'Regulon(Cebpb)', 'Regulon(Cebpd)', 'Regulon(Creb5)', 'Regulon(Crem)', 'Regulon(Dusp26)', 'Regulon(Egr1)', 'Regulon(Egr2)', 'Regulon(Egr3)', 'Regulon(Egr4)', 'Regulon(Eomes)', 'Regulon(Erg)', 'Regulon(Ets1)', 'Regulon(Fezf1)', 'Regulon(Fosb)', 'Regulon(Fosl2)', 'Regulon(Foxa1)', 'Regulon(Foxd3)', 'Regulon(Foxi1)', 'Regulon(Foxo1)', 'Regulon(Foxq1)', 'Regulon(Foxs1)', 'Regulon(Gabpb1)', 'Regulon(Gata2)', 'Regulon(Gata3)', 'Regulon(Gata6)', 'Regulon(Grhl3)', 'Regulon(Hnf4a)', 'Regulon(Hoxb6)', 'Regulon(Ikzf2)', 'Regulon(Irf1)', 'Regulon(Irf4)', 'Regulon(Irf5)', 'Regulon(Irf6)', 'Regulon(Irf7)', 'Regulon(Irf8)', 'Regulon(Junb)', 'Regulon(Jund)', 'Regulon(Klf2)', 'Regulon(Klf4)', 'Regulon(Klf5)', 'Regulon(Lhx6)', 'Regulon(Mafb)', 'Regulon(Maff)', 'Regulon(Mef2c)', 'Regulon(Myc)', 'Regulon(Myod1)', 'Regulon(Nfe2l2)', 'Regulon(Nfia)', 'Regulon(Nfil3)', 'Regulon(Nfix)', 'Regulon(Nfkb1)', 'Regulon(Nkx6-2)', 'Regulon(Onecut2)', 'Regulon(Pax3)', 'Regulon(Peg3)', 'Regulon(Pgr)', 'Regulon(Pou2f3)', 'Regulon(Pparg)', 'Regulon(Prrx2)', 'Regulon(Rel)', 'Regulon(Runx1)', 'Regulon(Runx3)', 'Regulon(Six2)', 'Regulon(Snai3)', 'Regulon(Sox10)', 'Regulon(Sox11)', 'Regulon(Sox18)', 'Regulon(Sox2)', 'Regulon(Sox4)', 'Regulon(Sox7)', 'Regulon(Sox9)', 'Regulon(Spi1)', 'Regulon(Spib)', 'Regulon(Spic)', 'Regulon(Srebf1)', 'Regulon(Stat3)', 'Regulon(Tagln2)', 'Regulon(Tal1)', 'Regulon(Tbx1)', 'Regulon(Tbx21)', 'Regulon(Tcf4)', 'Regulon(Tead1)', 'Regulon(Tff3)', 'Regulon(Trp63)', 'Regulon(Twist1)', 'name', 'name_nosuperscript', 'cluster', '_scvi_batch', '_scvi_labels'\n",
       "    var: 'gene_ids-0', 'feature_types-0', 'genome-0', 'gene_ids-1', 'feature_types-1', 'genome-1', 'gene_ids-2', 'feature_types-2', 'genome-2', 'gene_ids-3', 'feature_types-3', 'genome-3', 'gene_ids-4', 'feature_types-4', 'genome-4', 'gene_ids-5', 'feature_types-5', 'genome-5', 'gene_ids-6', 'feature_types-6', 'genome-6', 'gene_ids-7', 'feature_types-7', 'genome-7', 'gene_ids-8', 'feature_types-8', 'genome-8', 'mt', 'n_cells_by_counts', 'mean_counts', 'pct_dropout_by_counts', 'total_counts', 'n_cells', 'highly_variable', 'highly_variable_rank', 'means', 'variances', 'variances_norm'\n",
       "    uns: 'aucell', 'condition_colors', 'dendrogram_leiden', 'hvg', 'key_colors', 'leiden', 'leiden_sizes', 'model_colors', 'neighbors', 'paga', 'rank_genes_groups', 'umap', '_scvi_uuid', '_scvi_manager_uuid'\n",
       "    obsm: 'X_aucell', 'X_pca', 'X_umap', 'X_scVI'\n",
       "    layers: 'counts'\n",
       "    obsp: 'connectivities', 'distances'"
      ]
     },
     "execution_count": 25,
     "metadata": {},
     "output_type": "execute_result"
    }
   ],
   "source": [
    "adata_mouse_raw2"
   ]
  },
  {
   "cell_type": "code",
   "execution_count": 245,
   "id": "2fbb2f31",
   "metadata": {},
   "outputs": [
    {
     "ename": "ValueError",
     "evalue": "Please set up your AnnData with SCVI.setup_anndata first. It appears the AnnData object has been setup with a different model.",
     "output_type": "error",
     "traceback": [
      "\u001b[0;31m---------------------------------------------------------------------------\u001b[0m",
      "\u001b[0;31mValueError\u001b[0m                                Traceback (most recent call last)",
      "\u001b[0;32m/scratchLocal/mao4005_9156966/ipykernel_86773/4195448619.py\u001b[0m in \u001b[0;36m<module>\u001b[0;34m\u001b[0m\n\u001b[0;32m----> 1\u001b[0;31m vae = sca.models.SCVI(\n\u001b[0m\u001b[1;32m      2\u001b[0m     \u001b[0madata_mouse_raw2\u001b[0m\u001b[0;34m,\u001b[0m\u001b[0;34m\u001b[0m\u001b[0;34m\u001b[0m\u001b[0m\n\u001b[1;32m      3\u001b[0m     \u001b[0mn_layers\u001b[0m\u001b[0;34m=\u001b[0m\u001b[0;36m2\u001b[0m\u001b[0;34m,\u001b[0m\u001b[0;34m\u001b[0m\u001b[0;34m\u001b[0m\u001b[0m\n\u001b[1;32m      4\u001b[0m     \u001b[0mencode_covariates\u001b[0m\u001b[0;34m=\u001b[0m\u001b[0;32mTrue\u001b[0m\u001b[0;34m,\u001b[0m\u001b[0;34m\u001b[0m\u001b[0;34m\u001b[0m\u001b[0m\n\u001b[1;32m      5\u001b[0m     \u001b[0mdeeply_inject_covariates\u001b[0m\u001b[0;34m=\u001b[0m\u001b[0;32mFalse\u001b[0m\u001b[0;34m,\u001b[0m\u001b[0;34m\u001b[0m\u001b[0;34m\u001b[0m\u001b[0m\n",
      "\u001b[0;32m~/.conda/envs/pathml/lib/python3.8/site-packages/scvi/model/_scvi.py\u001b[0m in \u001b[0;36m__init__\u001b[0;34m(self, adata, n_hidden, n_latent, n_layers, dropout_rate, dispersion, gene_likelihood, latent_distribution, **model_kwargs)\u001b[0m\n\u001b[1;32m     94\u001b[0m         \u001b[0;34m**\u001b[0m\u001b[0mmodel_kwargs\u001b[0m\u001b[0;34m,\u001b[0m\u001b[0;34m\u001b[0m\u001b[0;34m\u001b[0m\u001b[0m\n\u001b[1;32m     95\u001b[0m     ):\n\u001b[0;32m---> 96\u001b[0;31m         \u001b[0msuper\u001b[0m\u001b[0;34m(\u001b[0m\u001b[0mSCVI\u001b[0m\u001b[0;34m,\u001b[0m \u001b[0mself\u001b[0m\u001b[0;34m)\u001b[0m\u001b[0;34m.\u001b[0m\u001b[0m__init__\u001b[0m\u001b[0;34m(\u001b[0m\u001b[0madata\u001b[0m\u001b[0;34m)\u001b[0m\u001b[0;34m\u001b[0m\u001b[0;34m\u001b[0m\u001b[0m\n\u001b[0m\u001b[1;32m     97\u001b[0m \u001b[0;34m\u001b[0m\u001b[0m\n\u001b[1;32m     98\u001b[0m         n_cats_per_cov = (\n",
      "\u001b[0;32m~/.conda/envs/pathml/lib/python3.8/site-packages/scvi/model/base/_base_model.py\u001b[0m in \u001b[0;36m__init__\u001b[0;34m(self, adata)\u001b[0m\n\u001b[1;32m     63\u001b[0m         \u001b[0;32mif\u001b[0m \u001b[0madata\u001b[0m \u001b[0;32mis\u001b[0m \u001b[0;32mnot\u001b[0m \u001b[0;32mNone\u001b[0m\u001b[0;34m:\u001b[0m\u001b[0;34m\u001b[0m\u001b[0;34m\u001b[0m\u001b[0m\n\u001b[1;32m     64\u001b[0m             \u001b[0mself\u001b[0m\u001b[0;34m.\u001b[0m\u001b[0m_adata\u001b[0m \u001b[0;34m=\u001b[0m \u001b[0madata\u001b[0m\u001b[0;34m\u001b[0m\u001b[0;34m\u001b[0m\u001b[0m\n\u001b[0;32m---> 65\u001b[0;31m             self._adata_manager = self._get_most_recent_anndata_manager(\n\u001b[0m\u001b[1;32m     66\u001b[0m                 \u001b[0madata\u001b[0m\u001b[0;34m,\u001b[0m \u001b[0mrequired\u001b[0m\u001b[0;34m=\u001b[0m\u001b[0;32mTrue\u001b[0m\u001b[0;34m\u001b[0m\u001b[0;34m\u001b[0m\u001b[0m\n\u001b[1;32m     67\u001b[0m             )\n",
      "\u001b[0;32m~/.conda/envs/pathml/lib/python3.8/site-packages/scvi/model/base/_base_model.py\u001b[0m in \u001b[0;36m_get_most_recent_anndata_manager\u001b[0;34m(cls, adata, required)\u001b[0m\n\u001b[1;32m    202\u001b[0m         \u001b[0;32mif\u001b[0m \u001b[0madata_id\u001b[0m \u001b[0;32mnot\u001b[0m \u001b[0;32min\u001b[0m \u001b[0mcls\u001b[0m\u001b[0;34m.\u001b[0m\u001b[0m_setup_adata_manager_store\u001b[0m\u001b[0;34m:\u001b[0m\u001b[0;34m\u001b[0m\u001b[0;34m\u001b[0m\u001b[0m\n\u001b[1;32m    203\u001b[0m             \u001b[0;32mif\u001b[0m \u001b[0mrequired\u001b[0m\u001b[0;34m:\u001b[0m\u001b[0;34m\u001b[0m\u001b[0;34m\u001b[0m\u001b[0m\n\u001b[0;32m--> 204\u001b[0;31m                 raise ValueError(\n\u001b[0m\u001b[1;32m    205\u001b[0m                     \u001b[0;34mf\"Please set up your AnnData with {cls.__name__}.setup_anndata first. \"\u001b[0m\u001b[0;34m\u001b[0m\u001b[0;34m\u001b[0m\u001b[0m\n\u001b[1;32m    206\u001b[0m                     \u001b[0;34m\"It appears the AnnData object has been setup with a different model.\"\u001b[0m\u001b[0;34m\u001b[0m\u001b[0;34m\u001b[0m\u001b[0m\n",
      "\u001b[0;31mValueError\u001b[0m: Please set up your AnnData with SCVI.setup_anndata first. It appears the AnnData object has been setup with a different model."
     ]
    }
   ],
   "source": [
    "vae = sca.models.SCVI(\n",
    "    adata_mouse_raw2,\n",
    "    n_layers=2,\n",
    "    encode_covariates=True,\n",
    "    deeply_inject_covariates=False,\n",
    "    use_layer_norm=\"both\",\n",
    "    use_batch_norm=\"none\",\n",
    ")"
   ]
  },
  {
   "cell_type": "code",
   "execution_count": null,
   "id": "816413f9",
   "metadata": {},
   "outputs": [],
   "source": []
  }
 ],
 "metadata": {
  "kernelspec": {
   "display_name": "pathml",
   "language": "python",
   "name": "pathml"
  },
  "language_info": {
   "codemirror_mode": {
    "name": "ipython",
    "version": 3
   },
   "file_extension": ".py",
   "mimetype": "text/x-python",
   "name": "python",
   "nbconvert_exporter": "python",
   "pygments_lexer": "ipython3",
   "version": "3.8.10"
  }
 },
 "nbformat": 4,
 "nbformat_minor": 5
}
